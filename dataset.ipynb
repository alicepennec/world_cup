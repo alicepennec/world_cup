{
 "cells": [
  {
   "cell_type": "code",
   "execution_count": 1,
   "metadata": {},
   "outputs": [],
   "source": [
    "import pandas as pd"
   ]
  },
  {
   "cell_type": "code",
   "execution_count": 2,
   "metadata": {},
   "outputs": [],
   "source": [
    "columns= ['home_team', 'away_team', 'home_result', 'away_result', 'date', 'round', 'city', 'edition']"
   ]
  },
  {
   "cell_type": "code",
   "execution_count": 3,
   "metadata": {},
   "outputs": [
    {
     "data": {
      "text/html": [
       "<div>\n",
       "<style scoped>\n",
       "    .dataframe tbody tr th:only-of-type {\n",
       "        vertical-align: middle;\n",
       "    }\n",
       "\n",
       "    .dataframe tbody tr th {\n",
       "        vertical-align: top;\n",
       "    }\n",
       "\n",
       "    .dataframe thead th {\n",
       "        text-align: right;\n",
       "    }\n",
       "</style>\n",
       "<table border=\"1\" class=\"dataframe\">\n",
       "  <thead>\n",
       "    <tr style=\"text-align: right;\">\n",
       "      <th></th>\n",
       "      <th>home_team</th>\n",
       "      <th>away_team</th>\n",
       "      <th>home_result</th>\n",
       "      <th>away_result</th>\n",
       "      <th>date</th>\n",
       "      <th>round</th>\n",
       "      <th>city</th>\n",
       "      <th>edition</th>\n",
       "    </tr>\n",
       "  </thead>\n",
       "  <tbody>\n",
       "  </tbody>\n",
       "</table>\n",
       "</div>"
      ],
      "text/plain": [
       "Empty DataFrame\n",
       "Columns: [home_team, away_team, home_result, away_result, date, round, city, edition]\n",
       "Index: []"
      ]
     },
     "execution_count": 3,
     "metadata": {},
     "output_type": "execute_result"
    }
   ],
   "source": [
    "df_clean = pd.DataFrame(columns=columns)\n",
    "df_clean.head()"
   ]
  },
  {
   "cell_type": "code",
   "execution_count": 4,
   "metadata": {},
   "outputs": [],
   "source": [
    "df_clean['id_match']= range(1, len(df_clean) + 1)"
   ]
  },
  {
   "cell_type": "markdown",
   "metadata": {},
   "source": [
    "## Lire les csv"
   ]
  },
  {
   "cell_type": "markdown",
   "metadata": {},
   "source": [
    "## 1930-2010"
   ]
  },
  {
   "cell_type": "code",
   "execution_count": 5,
   "metadata": {},
   "outputs": [],
   "source": [
    "df_matches_1930_2010 = pd.read_csv('sources/matches_1930-2010.csv')\n",
    "df_matches_2014 = pd.read_csv('sources/matches2014.csv', sep=';')\n"
   ]
  },
  {
   "cell_type": "code",
   "execution_count": 6,
   "metadata": {},
   "outputs": [],
   "source": [
    "df_matches_2022 = pd.read_csv('sources/matches_2022.csv')"
   ]
  },
  {
   "cell_type": "code",
   "execution_count": 7,
   "metadata": {},
   "outputs": [
    {
     "name": "stdout",
     "output_type": "stream",
     "text": [
      "<class 'pandas.core.frame.DataFrame'>\n",
      "RangeIndex: 7299 entries, 0 to 7298\n",
      "Data columns (total 8 columns):\n",
      " #   Column   Non-Null Count  Dtype \n",
      "---  ------   --------------  ----- \n",
      " 0   edition  7299 non-null   object\n",
      " 1   round    7299 non-null   object\n",
      " 2   score    7299 non-null   object\n",
      " 3   team1    7299 non-null   object\n",
      " 4   team2    7299 non-null   object\n",
      " 5   url      7299 non-null   object\n",
      " 6   venue    7299 non-null   object\n",
      " 7   year     7299 non-null   int64 \n",
      "dtypes: int64(1), object(7)\n",
      "memory usage: 456.3+ KB\n"
     ]
    }
   ],
   "source": [
    "df_matches_1930_2010.info()"
   ]
  },
  {
   "cell_type": "code",
   "execution_count": 8,
   "metadata": {},
   "outputs": [],
   "source": [
    "# Séparer la colonne 'score' en deux nouvelles colonnes\n",
    "df_matches_1930_2010[['score1', 'score2']] = df_matches_1930_2010['score'].str.extract(r'(\\d+)-(\\d+)')"
   ]
  },
  {
   "cell_type": "code",
   "execution_count": 9,
   "metadata": {},
   "outputs": [
    {
     "data": {
      "text/html": [
       "<div>\n",
       "<style scoped>\n",
       "    .dataframe tbody tr th:only-of-type {\n",
       "        vertical-align: middle;\n",
       "    }\n",
       "\n",
       "    .dataframe tbody tr th {\n",
       "        vertical-align: top;\n",
       "    }\n",
       "\n",
       "    .dataframe thead th {\n",
       "        text-align: right;\n",
       "    }\n",
       "</style>\n",
       "<table border=\"1\" class=\"dataframe\">\n",
       "  <thead>\n",
       "    <tr style=\"text-align: right;\">\n",
       "      <th></th>\n",
       "      <th>edition</th>\n",
       "      <th>round</th>\n",
       "      <th>score</th>\n",
       "      <th>team1</th>\n",
       "      <th>team2</th>\n",
       "      <th>url</th>\n",
       "      <th>venue</th>\n",
       "      <th>year</th>\n",
       "      <th>score1</th>\n",
       "      <th>score2</th>\n",
       "    </tr>\n",
       "  </thead>\n",
       "  <tbody>\n",
       "    <tr>\n",
       "      <th>0</th>\n",
       "      <td>1930-URUGUAY</td>\n",
       "      <td>GROUP_STAGE</td>\n",
       "      <td>4-1 (3-0)</td>\n",
       "      <td>France</td>\n",
       "      <td>Mexico (México)</td>\n",
       "      <td>1930_URUGUAY_FS.htm#1-WC-30-I</td>\n",
       "      <td>Montevideo.</td>\n",
       "      <td>1930</td>\n",
       "      <td>4</td>\n",
       "      <td>1</td>\n",
       "    </tr>\n",
       "    <tr>\n",
       "      <th>1</th>\n",
       "      <td>1930-URUGUAY</td>\n",
       "      <td>GROUP_STAGE</td>\n",
       "      <td>3-0 (2-0)</td>\n",
       "      <td>USA</td>\n",
       "      <td>Belgium (België)</td>\n",
       "      <td>1930_URUGUAY_FS.htm#13-WC-30-I</td>\n",
       "      <td>Montevideo.</td>\n",
       "      <td>1930</td>\n",
       "      <td>3</td>\n",
       "      <td>0</td>\n",
       "    </tr>\n",
       "    <tr>\n",
       "      <th>2</th>\n",
       "      <td>1930-URUGUAY</td>\n",
       "      <td>GROUP_STAGE</td>\n",
       "      <td>2-1 (2-0)</td>\n",
       "      <td>Yugoslavia (Југославија)</td>\n",
       "      <td>Brazil (Brasil)</td>\n",
       "      <td>1930_URUGUAY_FS.htm#7-WC-30-I</td>\n",
       "      <td>Montevideo.</td>\n",
       "      <td>1930</td>\n",
       "      <td>2</td>\n",
       "      <td>1</td>\n",
       "    </tr>\n",
       "    <tr>\n",
       "      <th>3</th>\n",
       "      <td>1930-URUGUAY</td>\n",
       "      <td>GROUP_STAGE</td>\n",
       "      <td>3-1 (1-0)</td>\n",
       "      <td>Romania (România)</td>\n",
       "      <td>Peru (Perú)</td>\n",
       "      <td>1930_URUGUAY_FS.htm#10-WC-30-I</td>\n",
       "      <td>Montevideo.</td>\n",
       "      <td>1930</td>\n",
       "      <td>3</td>\n",
       "      <td>1</td>\n",
       "    </tr>\n",
       "    <tr>\n",
       "      <th>4</th>\n",
       "      <td>1930-URUGUAY</td>\n",
       "      <td>GROUP_STAGE</td>\n",
       "      <td>1-0 (0-0)</td>\n",
       "      <td>Argentina</td>\n",
       "      <td>France</td>\n",
       "      <td>1930_URUGUAY_FS.htm#2-WC-30-I</td>\n",
       "      <td>Montevideo.</td>\n",
       "      <td>1930</td>\n",
       "      <td>1</td>\n",
       "      <td>0</td>\n",
       "    </tr>\n",
       "  </tbody>\n",
       "</table>\n",
       "</div>"
      ],
      "text/plain": [
       "        edition        round      score                     team1  \\\n",
       "0  1930-URUGUAY  GROUP_STAGE  4-1 (3-0)                    France   \n",
       "1  1930-URUGUAY  GROUP_STAGE  3-0 (2-0)                       USA   \n",
       "2  1930-URUGUAY  GROUP_STAGE  2-1 (2-0)  Yugoslavia (Југославија)   \n",
       "3  1930-URUGUAY  GROUP_STAGE  3-1 (1-0)         Romania (România)   \n",
       "4  1930-URUGUAY  GROUP_STAGE  1-0 (0-0)                 Argentina   \n",
       "\n",
       "              team2                             url        venue  year score1  \\\n",
       "0   Mexico (México)   1930_URUGUAY_FS.htm#1-WC-30-I  Montevideo.  1930      4   \n",
       "1  Belgium (België)  1930_URUGUAY_FS.htm#13-WC-30-I  Montevideo.  1930      3   \n",
       "2   Brazil (Brasil)   1930_URUGUAY_FS.htm#7-WC-30-I  Montevideo.  1930      2   \n",
       "3       Peru (Perú)  1930_URUGUAY_FS.htm#10-WC-30-I  Montevideo.  1930      3   \n",
       "4            France   1930_URUGUAY_FS.htm#2-WC-30-I  Montevideo.  1930      1   \n",
       "\n",
       "  score2  \n",
       "0      1  \n",
       "1      0  \n",
       "2      1  \n",
       "3      1  \n",
       "4      0  "
      ]
     },
     "execution_count": 9,
     "metadata": {},
     "output_type": "execute_result"
    }
   ],
   "source": [
    "df_matches_1930_2010.head()"
   ]
  },
  {
   "cell_type": "code",
   "execution_count": 10,
   "metadata": {},
   "outputs": [
    {
     "data": {
      "text/plain": [
       "edition     0\n",
       "round       0\n",
       "score       0\n",
       "team1       0\n",
       "team2       0\n",
       "url         0\n",
       "venue       0\n",
       "year        0\n",
       "score1     64\n",
       "score2     64\n",
       "dtype: int64"
      ]
     },
     "execution_count": 10,
     "metadata": {},
     "output_type": "execute_result"
    }
   ],
   "source": [
    "df_matches_1930_2010.isnull().sum()"
   ]
  },
  {
   "cell_type": "code",
   "execution_count": 11,
   "metadata": {},
   "outputs": [],
   "source": [
    "df_matches_1930_2010_wo_2014 = df_matches_1930_2010[df_matches_1930_2010['edition'] != '2014-BRAZIL']"
   ]
  },
  {
   "cell_type": "code",
   "execution_count": 12,
   "metadata": {},
   "outputs": [
    {
     "data": {
      "text/plain": [
       "edition    0\n",
       "round      0\n",
       "score      0\n",
       "team1      0\n",
       "team2      0\n",
       "url        0\n",
       "venue      0\n",
       "year       0\n",
       "score1     0\n",
       "score2     0\n",
       "dtype: int64"
      ]
     },
     "execution_count": 12,
     "metadata": {},
     "output_type": "execute_result"
    }
   ],
   "source": [
    "df_matches_1930_2010_wo_2014.isnull().sum()"
   ]
  },
  {
   "cell_type": "code",
   "execution_count": 13,
   "metadata": {},
   "outputs": [
    {
     "data": {
      "text/plain": [
       "edition    object\n",
       "round      object\n",
       "score      object\n",
       "team1      object\n",
       "team2      object\n",
       "url        object\n",
       "venue      object\n",
       "year        int64\n",
       "score1     object\n",
       "score2     object\n",
       "dtype: object"
      ]
     },
     "execution_count": 13,
     "metadata": {},
     "output_type": "execute_result"
    }
   ],
   "source": [
    "df_matches_1930_2010_wo_2014.dtypes"
   ]
  },
  {
   "cell_type": "code",
   "execution_count": 14,
   "metadata": {},
   "outputs": [
    {
     "name": "stderr",
     "output_type": "stream",
     "text": [
      "C:\\Users\\Raux Familly\\AppData\\Local\\Temp\\ipykernel_13876\\333761209.py:1: SettingWithCopyWarning: \n",
      "A value is trying to be set on a copy of a slice from a DataFrame.\n",
      "Try using .loc[row_indexer,col_indexer] = value instead\n",
      "\n",
      "See the caveats in the documentation: https://pandas.pydata.org/pandas-docs/stable/user_guide/indexing.html#returning-a-view-versus-a-copy\n",
      "  df_matches_1930_2010_wo_2014['score1'] = df_matches_1930_2010_wo_2014['score1'].astype('int64')\n",
      "C:\\Users\\Raux Familly\\AppData\\Local\\Temp\\ipykernel_13876\\333761209.py:2: SettingWithCopyWarning: \n",
      "A value is trying to be set on a copy of a slice from a DataFrame.\n",
      "Try using .loc[row_indexer,col_indexer] = value instead\n",
      "\n",
      "See the caveats in the documentation: https://pandas.pydata.org/pandas-docs/stable/user_guide/indexing.html#returning-a-view-versus-a-copy\n",
      "  df_matches_1930_2010_wo_2014['score2'] = df_matches_1930_2010_wo_2014['score2'].astype('int64')\n"
     ]
    }
   ],
   "source": [
    "df_matches_1930_2010_wo_2014['score1'] = df_matches_1930_2010_wo_2014['score1'].astype('int64')\n",
    "df_matches_1930_2010_wo_2014['score2'] = df_matches_1930_2010_wo_2014['score2'].astype('int64')"
   ]
  },
  {
   "cell_type": "code",
   "execution_count": 15,
   "metadata": {},
   "outputs": [
    {
     "name": "stdout",
     "output_type": "stream",
     "text": [
      "<class 'pandas.core.frame.DataFrame'>\n",
      "Index: 6415 entries, 0 to 6414\n",
      "Data columns (total 10 columns):\n",
      " #   Column   Non-Null Count  Dtype \n",
      "---  ------   --------------  ----- \n",
      " 0   edition  6415 non-null   object\n",
      " 1   round    6415 non-null   object\n",
      " 2   score    6415 non-null   object\n",
      " 3   team1    6415 non-null   object\n",
      " 4   team2    6415 non-null   object\n",
      " 5   url      6415 non-null   object\n",
      " 6   venue    6415 non-null   object\n",
      " 7   year     6415 non-null   int64 \n",
      " 8   score1   6415 non-null   int64 \n",
      " 9   score2   6415 non-null   int64 \n",
      "dtypes: int64(3), object(7)\n",
      "memory usage: 551.3+ KB\n"
     ]
    }
   ],
   "source": [
    "df_matches_1930_2010_wo_2014.info()"
   ]
  },
  {
   "cell_type": "code",
   "execution_count": 16,
   "metadata": {},
   "outputs": [],
   "source": [
    "df_clean['home_team'] = df_matches_1930_2010_wo_2014['team1'].to_list()"
   ]
  },
  {
   "cell_type": "code",
   "execution_count": 17,
   "metadata": {},
   "outputs": [],
   "source": [
    "df_clean['home_result'] = df_matches_1930_2010_wo_2014['score1'].to_list()"
   ]
  },
  {
   "cell_type": "code",
   "execution_count": 18,
   "metadata": {},
   "outputs": [
    {
     "data": {
      "text/html": [
       "<div>\n",
       "<style scoped>\n",
       "    .dataframe tbody tr th:only-of-type {\n",
       "        vertical-align: middle;\n",
       "    }\n",
       "\n",
       "    .dataframe tbody tr th {\n",
       "        vertical-align: top;\n",
       "    }\n",
       "\n",
       "    .dataframe thead th {\n",
       "        text-align: right;\n",
       "    }\n",
       "</style>\n",
       "<table border=\"1\" class=\"dataframe\">\n",
       "  <thead>\n",
       "    <tr style=\"text-align: right;\">\n",
       "      <th></th>\n",
       "      <th>home_team</th>\n",
       "      <th>away_team</th>\n",
       "      <th>home_result</th>\n",
       "      <th>away_result</th>\n",
       "      <th>date</th>\n",
       "      <th>round</th>\n",
       "      <th>city</th>\n",
       "      <th>edition</th>\n",
       "      <th>id_match</th>\n",
       "    </tr>\n",
       "  </thead>\n",
       "  <tbody>\n",
       "    <tr>\n",
       "      <th>0</th>\n",
       "      <td>France</td>\n",
       "      <td>NaN</td>\n",
       "      <td>4</td>\n",
       "      <td>NaN</td>\n",
       "      <td>NaN</td>\n",
       "      <td>NaN</td>\n",
       "      <td>NaN</td>\n",
       "      <td>NaN</td>\n",
       "      <td>NaN</td>\n",
       "    </tr>\n",
       "    <tr>\n",
       "      <th>1</th>\n",
       "      <td>USA</td>\n",
       "      <td>NaN</td>\n",
       "      <td>3</td>\n",
       "      <td>NaN</td>\n",
       "      <td>NaN</td>\n",
       "      <td>NaN</td>\n",
       "      <td>NaN</td>\n",
       "      <td>NaN</td>\n",
       "      <td>NaN</td>\n",
       "    </tr>\n",
       "    <tr>\n",
       "      <th>2</th>\n",
       "      <td>Yugoslavia (Југославија)</td>\n",
       "      <td>NaN</td>\n",
       "      <td>2</td>\n",
       "      <td>NaN</td>\n",
       "      <td>NaN</td>\n",
       "      <td>NaN</td>\n",
       "      <td>NaN</td>\n",
       "      <td>NaN</td>\n",
       "      <td>NaN</td>\n",
       "    </tr>\n",
       "    <tr>\n",
       "      <th>3</th>\n",
       "      <td>Romania (România)</td>\n",
       "      <td>NaN</td>\n",
       "      <td>3</td>\n",
       "      <td>NaN</td>\n",
       "      <td>NaN</td>\n",
       "      <td>NaN</td>\n",
       "      <td>NaN</td>\n",
       "      <td>NaN</td>\n",
       "      <td>NaN</td>\n",
       "    </tr>\n",
       "    <tr>\n",
       "      <th>4</th>\n",
       "      <td>Argentina</td>\n",
       "      <td>NaN</td>\n",
       "      <td>1</td>\n",
       "      <td>NaN</td>\n",
       "      <td>NaN</td>\n",
       "      <td>NaN</td>\n",
       "      <td>NaN</td>\n",
       "      <td>NaN</td>\n",
       "      <td>NaN</td>\n",
       "    </tr>\n",
       "  </tbody>\n",
       "</table>\n",
       "</div>"
      ],
      "text/plain": [
       "                  home_team away_team  home_result away_result date round  \\\n",
       "0                    France       NaN            4         NaN  NaN   NaN   \n",
       "1                       USA       NaN            3         NaN  NaN   NaN   \n",
       "2  Yugoslavia (Југославија)       NaN            2         NaN  NaN   NaN   \n",
       "3         Romania (România)       NaN            3         NaN  NaN   NaN   \n",
       "4                 Argentina       NaN            1         NaN  NaN   NaN   \n",
       "\n",
       "  city edition  id_match  \n",
       "0  NaN     NaN       NaN  \n",
       "1  NaN     NaN       NaN  \n",
       "2  NaN     NaN       NaN  \n",
       "3  NaN     NaN       NaN  \n",
       "4  NaN     NaN       NaN  "
      ]
     },
     "execution_count": 18,
     "metadata": {},
     "output_type": "execute_result"
    }
   ],
   "source": [
    "df_clean.head()"
   ]
  },
  {
   "cell_type": "code",
   "execution_count": 19,
   "metadata": {},
   "outputs": [],
   "source": [
    "df_clean['away_team'] = df_matches_1930_2010_wo_2014['team2'].to_list()\n",
    "df_clean['away_result'] = df_matches_1930_2010_wo_2014['score2'].to_list()"
   ]
  },
  {
   "cell_type": "code",
   "execution_count": 20,
   "metadata": {},
   "outputs": [
    {
     "data": {
      "text/html": [
       "<div>\n",
       "<style scoped>\n",
       "    .dataframe tbody tr th:only-of-type {\n",
       "        vertical-align: middle;\n",
       "    }\n",
       "\n",
       "    .dataframe tbody tr th {\n",
       "        vertical-align: top;\n",
       "    }\n",
       "\n",
       "    .dataframe thead th {\n",
       "        text-align: right;\n",
       "    }\n",
       "</style>\n",
       "<table border=\"1\" class=\"dataframe\">\n",
       "  <thead>\n",
       "    <tr style=\"text-align: right;\">\n",
       "      <th></th>\n",
       "      <th>home_team</th>\n",
       "      <th>away_team</th>\n",
       "      <th>home_result</th>\n",
       "      <th>away_result</th>\n",
       "      <th>date</th>\n",
       "      <th>round</th>\n",
       "      <th>city</th>\n",
       "      <th>edition</th>\n",
       "      <th>id_match</th>\n",
       "    </tr>\n",
       "  </thead>\n",
       "  <tbody>\n",
       "    <tr>\n",
       "      <th>0</th>\n",
       "      <td>France</td>\n",
       "      <td>Mexico (México)</td>\n",
       "      <td>4</td>\n",
       "      <td>1</td>\n",
       "      <td>NaN</td>\n",
       "      <td>NaN</td>\n",
       "      <td>NaN</td>\n",
       "      <td>NaN</td>\n",
       "      <td>NaN</td>\n",
       "    </tr>\n",
       "    <tr>\n",
       "      <th>1</th>\n",
       "      <td>USA</td>\n",
       "      <td>Belgium (België)</td>\n",
       "      <td>3</td>\n",
       "      <td>0</td>\n",
       "      <td>NaN</td>\n",
       "      <td>NaN</td>\n",
       "      <td>NaN</td>\n",
       "      <td>NaN</td>\n",
       "      <td>NaN</td>\n",
       "    </tr>\n",
       "    <tr>\n",
       "      <th>2</th>\n",
       "      <td>Yugoslavia (Југославија)</td>\n",
       "      <td>Brazil (Brasil)</td>\n",
       "      <td>2</td>\n",
       "      <td>1</td>\n",
       "      <td>NaN</td>\n",
       "      <td>NaN</td>\n",
       "      <td>NaN</td>\n",
       "      <td>NaN</td>\n",
       "      <td>NaN</td>\n",
       "    </tr>\n",
       "    <tr>\n",
       "      <th>3</th>\n",
       "      <td>Romania (România)</td>\n",
       "      <td>Peru (Perú)</td>\n",
       "      <td>3</td>\n",
       "      <td>1</td>\n",
       "      <td>NaN</td>\n",
       "      <td>NaN</td>\n",
       "      <td>NaN</td>\n",
       "      <td>NaN</td>\n",
       "      <td>NaN</td>\n",
       "    </tr>\n",
       "    <tr>\n",
       "      <th>4</th>\n",
       "      <td>Argentina</td>\n",
       "      <td>France</td>\n",
       "      <td>1</td>\n",
       "      <td>0</td>\n",
       "      <td>NaN</td>\n",
       "      <td>NaN</td>\n",
       "      <td>NaN</td>\n",
       "      <td>NaN</td>\n",
       "      <td>NaN</td>\n",
       "    </tr>\n",
       "  </tbody>\n",
       "</table>\n",
       "</div>"
      ],
      "text/plain": [
       "                  home_team         away_team  home_result  away_result date  \\\n",
       "0                    France   Mexico (México)            4            1  NaN   \n",
       "1                       USA  Belgium (België)            3            0  NaN   \n",
       "2  Yugoslavia (Југославија)   Brazil (Brasil)            2            1  NaN   \n",
       "3         Romania (România)       Peru (Perú)            3            1  NaN   \n",
       "4                 Argentina            France            1            0  NaN   \n",
       "\n",
       "  round city edition  id_match  \n",
       "0   NaN  NaN     NaN       NaN  \n",
       "1   NaN  NaN     NaN       NaN  \n",
       "2   NaN  NaN     NaN       NaN  \n",
       "3   NaN  NaN     NaN       NaN  \n",
       "4   NaN  NaN     NaN       NaN  "
      ]
     },
     "execution_count": 20,
     "metadata": {},
     "output_type": "execute_result"
    }
   ],
   "source": [
    "df_clean.head()"
   ]
  },
  {
   "cell_type": "code",
   "execution_count": 42,
   "metadata": {},
   "outputs": [
    {
     "ename": "ValueError",
     "evalue": "Length of values (6415) does not match length of index (160)",
     "output_type": "error",
     "traceback": [
      "\u001b[1;31m---------------------------------------------------------------------------\u001b[0m",
      "\u001b[1;31mValueError\u001b[0m                                Traceback (most recent call last)",
      "Cell \u001b[1;32mIn[42], line 1\u001b[0m\n\u001b[1;32m----> 1\u001b[0m \u001b[43mdf_clean\u001b[49m\u001b[43m[\u001b[49m\u001b[38;5;124;43m'\u001b[39;49m\u001b[38;5;124;43mround\u001b[39;49m\u001b[38;5;124;43m'\u001b[39;49m\u001b[43m]\u001b[49m \u001b[38;5;241m=\u001b[39m df_matches_1930_2010_wo_2014[\u001b[38;5;124m'\u001b[39m\u001b[38;5;124mround\u001b[39m\u001b[38;5;124m'\u001b[39m]\u001b[38;5;241m.\u001b[39mto_list()\n\u001b[0;32m      2\u001b[0m df_clean[\u001b[38;5;124m'\u001b[39m\u001b[38;5;124medition\u001b[39m\u001b[38;5;124m'\u001b[39m] \u001b[38;5;241m=\u001b[39m df_matches_1930_2010_wo_2014[\u001b[38;5;124m'\u001b[39m\u001b[38;5;124medition\u001b[39m\u001b[38;5;124m'\u001b[39m]\u001b[38;5;241m.\u001b[39mto_list()\n\u001b[0;32m      3\u001b[0m df_clean[\u001b[38;5;124m'\u001b[39m\u001b[38;5;124mcity\u001b[39m\u001b[38;5;124m'\u001b[39m] \u001b[38;5;241m=\u001b[39m df_matches_1930_2010_wo_2014[\u001b[38;5;124m'\u001b[39m\u001b[38;5;124mvenue\u001b[39m\u001b[38;5;124m'\u001b[39m]\u001b[38;5;241m.\u001b[39mto_list()\n",
      "File \u001b[1;32mc:\\Users\\Raux Familly\\AppData\\Local\\Programs\\Python\\Python312\\Lib\\site-packages\\pandas\\core\\frame.py:4311\u001b[0m, in \u001b[0;36mDataFrame.__setitem__\u001b[1;34m(self, key, value)\u001b[0m\n\u001b[0;32m   4308\u001b[0m     \u001b[38;5;28mself\u001b[39m\u001b[38;5;241m.\u001b[39m_setitem_array([key], value)\n\u001b[0;32m   4309\u001b[0m \u001b[38;5;28;01melse\u001b[39;00m:\n\u001b[0;32m   4310\u001b[0m     \u001b[38;5;66;03m# set column\u001b[39;00m\n\u001b[1;32m-> 4311\u001b[0m     \u001b[38;5;28;43mself\u001b[39;49m\u001b[38;5;241;43m.\u001b[39;49m\u001b[43m_set_item\u001b[49m\u001b[43m(\u001b[49m\u001b[43mkey\u001b[49m\u001b[43m,\u001b[49m\u001b[43m \u001b[49m\u001b[43mvalue\u001b[49m\u001b[43m)\u001b[49m\n",
      "File \u001b[1;32mc:\\Users\\Raux Familly\\AppData\\Local\\Programs\\Python\\Python312\\Lib\\site-packages\\pandas\\core\\frame.py:4524\u001b[0m, in \u001b[0;36mDataFrame._set_item\u001b[1;34m(self, key, value)\u001b[0m\n\u001b[0;32m   4514\u001b[0m \u001b[38;5;28;01mdef\u001b[39;00m \u001b[38;5;21m_set_item\u001b[39m(\u001b[38;5;28mself\u001b[39m, key, value) \u001b[38;5;241m-\u001b[39m\u001b[38;5;241m>\u001b[39m \u001b[38;5;28;01mNone\u001b[39;00m:\n\u001b[0;32m   4515\u001b[0m \u001b[38;5;250m    \u001b[39m\u001b[38;5;124;03m\"\"\"\u001b[39;00m\n\u001b[0;32m   4516\u001b[0m \u001b[38;5;124;03m    Add series to DataFrame in specified column.\u001b[39;00m\n\u001b[0;32m   4517\u001b[0m \n\u001b[1;32m   (...)\u001b[0m\n\u001b[0;32m   4522\u001b[0m \u001b[38;5;124;03m    ensure homogeneity.\u001b[39;00m\n\u001b[0;32m   4523\u001b[0m \u001b[38;5;124;03m    \"\"\"\u001b[39;00m\n\u001b[1;32m-> 4524\u001b[0m     value, refs \u001b[38;5;241m=\u001b[39m \u001b[38;5;28;43mself\u001b[39;49m\u001b[38;5;241;43m.\u001b[39;49m\u001b[43m_sanitize_column\u001b[49m\u001b[43m(\u001b[49m\u001b[43mvalue\u001b[49m\u001b[43m)\u001b[49m\n\u001b[0;32m   4526\u001b[0m     \u001b[38;5;28;01mif\u001b[39;00m (\n\u001b[0;32m   4527\u001b[0m         key \u001b[38;5;129;01min\u001b[39;00m \u001b[38;5;28mself\u001b[39m\u001b[38;5;241m.\u001b[39mcolumns\n\u001b[0;32m   4528\u001b[0m         \u001b[38;5;129;01mand\u001b[39;00m value\u001b[38;5;241m.\u001b[39mndim \u001b[38;5;241m==\u001b[39m \u001b[38;5;241m1\u001b[39m\n\u001b[0;32m   4529\u001b[0m         \u001b[38;5;129;01mand\u001b[39;00m \u001b[38;5;129;01mnot\u001b[39;00m \u001b[38;5;28misinstance\u001b[39m(value\u001b[38;5;241m.\u001b[39mdtype, ExtensionDtype)\n\u001b[0;32m   4530\u001b[0m     ):\n\u001b[0;32m   4531\u001b[0m         \u001b[38;5;66;03m# broadcast across multiple columns if necessary\u001b[39;00m\n\u001b[0;32m   4532\u001b[0m         \u001b[38;5;28;01mif\u001b[39;00m \u001b[38;5;129;01mnot\u001b[39;00m \u001b[38;5;28mself\u001b[39m\u001b[38;5;241m.\u001b[39mcolumns\u001b[38;5;241m.\u001b[39mis_unique \u001b[38;5;129;01mor\u001b[39;00m \u001b[38;5;28misinstance\u001b[39m(\u001b[38;5;28mself\u001b[39m\u001b[38;5;241m.\u001b[39mcolumns, MultiIndex):\n",
      "File \u001b[1;32mc:\\Users\\Raux Familly\\AppData\\Local\\Programs\\Python\\Python312\\Lib\\site-packages\\pandas\\core\\frame.py:5266\u001b[0m, in \u001b[0;36mDataFrame._sanitize_column\u001b[1;34m(self, value)\u001b[0m\n\u001b[0;32m   5263\u001b[0m     \u001b[38;5;28;01mreturn\u001b[39;00m _reindex_for_setitem(value, \u001b[38;5;28mself\u001b[39m\u001b[38;5;241m.\u001b[39mindex)\n\u001b[0;32m   5265\u001b[0m \u001b[38;5;28;01mif\u001b[39;00m is_list_like(value):\n\u001b[1;32m-> 5266\u001b[0m     \u001b[43mcom\u001b[49m\u001b[38;5;241;43m.\u001b[39;49m\u001b[43mrequire_length_match\u001b[49m\u001b[43m(\u001b[49m\u001b[43mvalue\u001b[49m\u001b[43m,\u001b[49m\u001b[43m \u001b[49m\u001b[38;5;28;43mself\u001b[39;49m\u001b[38;5;241;43m.\u001b[39;49m\u001b[43mindex\u001b[49m\u001b[43m)\u001b[49m\n\u001b[0;32m   5267\u001b[0m arr \u001b[38;5;241m=\u001b[39m sanitize_array(value, \u001b[38;5;28mself\u001b[39m\u001b[38;5;241m.\u001b[39mindex, copy\u001b[38;5;241m=\u001b[39m\u001b[38;5;28;01mTrue\u001b[39;00m, allow_2d\u001b[38;5;241m=\u001b[39m\u001b[38;5;28;01mTrue\u001b[39;00m)\n\u001b[0;32m   5268\u001b[0m \u001b[38;5;28;01mif\u001b[39;00m (\n\u001b[0;32m   5269\u001b[0m     \u001b[38;5;28misinstance\u001b[39m(value, Index)\n\u001b[0;32m   5270\u001b[0m     \u001b[38;5;129;01mand\u001b[39;00m value\u001b[38;5;241m.\u001b[39mdtype \u001b[38;5;241m==\u001b[39m \u001b[38;5;124m\"\u001b[39m\u001b[38;5;124mobject\u001b[39m\u001b[38;5;124m\"\u001b[39m\n\u001b[1;32m   (...)\u001b[0m\n\u001b[0;32m   5273\u001b[0m     \u001b[38;5;66;03m# TODO: Remove kludge in sanitize_array for string mode when enforcing\u001b[39;00m\n\u001b[0;32m   5274\u001b[0m     \u001b[38;5;66;03m# this deprecation\u001b[39;00m\n",
      "File \u001b[1;32mc:\\Users\\Raux Familly\\AppData\\Local\\Programs\\Python\\Python312\\Lib\\site-packages\\pandas\\core\\common.py:573\u001b[0m, in \u001b[0;36mrequire_length_match\u001b[1;34m(data, index)\u001b[0m\n\u001b[0;32m    569\u001b[0m \u001b[38;5;250m\u001b[39m\u001b[38;5;124;03m\"\"\"\u001b[39;00m\n\u001b[0;32m    570\u001b[0m \u001b[38;5;124;03mCheck the length of data matches the length of the index.\u001b[39;00m\n\u001b[0;32m    571\u001b[0m \u001b[38;5;124;03m\"\"\"\u001b[39;00m\n\u001b[0;32m    572\u001b[0m \u001b[38;5;28;01mif\u001b[39;00m \u001b[38;5;28mlen\u001b[39m(data) \u001b[38;5;241m!=\u001b[39m \u001b[38;5;28mlen\u001b[39m(index):\n\u001b[1;32m--> 573\u001b[0m     \u001b[38;5;28;01mraise\u001b[39;00m \u001b[38;5;167;01mValueError\u001b[39;00m(\n\u001b[0;32m    574\u001b[0m         \u001b[38;5;124m\"\u001b[39m\u001b[38;5;124mLength of values \u001b[39m\u001b[38;5;124m\"\u001b[39m\n\u001b[0;32m    575\u001b[0m         \u001b[38;5;124mf\u001b[39m\u001b[38;5;124m\"\u001b[39m\u001b[38;5;124m(\u001b[39m\u001b[38;5;132;01m{\u001b[39;00m\u001b[38;5;28mlen\u001b[39m(data)\u001b[38;5;132;01m}\u001b[39;00m\u001b[38;5;124m) \u001b[39m\u001b[38;5;124m\"\u001b[39m\n\u001b[0;32m    576\u001b[0m         \u001b[38;5;124m\"\u001b[39m\u001b[38;5;124mdoes not match length of index \u001b[39m\u001b[38;5;124m\"\u001b[39m\n\u001b[0;32m    577\u001b[0m         \u001b[38;5;124mf\u001b[39m\u001b[38;5;124m\"\u001b[39m\u001b[38;5;124m(\u001b[39m\u001b[38;5;132;01m{\u001b[39;00m\u001b[38;5;28mlen\u001b[39m(index)\u001b[38;5;132;01m}\u001b[39;00m\u001b[38;5;124m)\u001b[39m\u001b[38;5;124m\"\u001b[39m\n\u001b[0;32m    578\u001b[0m     )\n",
      "\u001b[1;31mValueError\u001b[0m: Length of values (6415) does not match length of index (160)"
     ]
    }
   ],
   "source": [
    "df_clean['round'] = df_matches_1930_2010_wo_2014['round'].to_list()\n",
    "df_clean['edition'] = df_matches_1930_2010_wo_2014['edition'].to_list()\n",
    "df_clean['city'] = df_matches_1930_2010_wo_2014['venue'].to_list()"
   ]
  },
  {
   "cell_type": "code",
   "execution_count": 22,
   "metadata": {},
   "outputs": [
    {
     "data": {
      "text/html": [
       "<div>\n",
       "<style scoped>\n",
       "    .dataframe tbody tr th:only-of-type {\n",
       "        vertical-align: middle;\n",
       "    }\n",
       "\n",
       "    .dataframe tbody tr th {\n",
       "        vertical-align: top;\n",
       "    }\n",
       "\n",
       "    .dataframe thead th {\n",
       "        text-align: right;\n",
       "    }\n",
       "</style>\n",
       "<table border=\"1\" class=\"dataframe\">\n",
       "  <thead>\n",
       "    <tr style=\"text-align: right;\">\n",
       "      <th></th>\n",
       "      <th>home_team</th>\n",
       "      <th>away_team</th>\n",
       "      <th>home_result</th>\n",
       "      <th>away_result</th>\n",
       "      <th>date</th>\n",
       "      <th>round</th>\n",
       "      <th>city</th>\n",
       "      <th>edition</th>\n",
       "      <th>id_match</th>\n",
       "    </tr>\n",
       "  </thead>\n",
       "  <tbody>\n",
       "    <tr>\n",
       "      <th>0</th>\n",
       "      <td>France</td>\n",
       "      <td>Mexico (México)</td>\n",
       "      <td>4</td>\n",
       "      <td>1</td>\n",
       "      <td>NaN</td>\n",
       "      <td>GROUP_STAGE</td>\n",
       "      <td>Montevideo.</td>\n",
       "      <td>1930-URUGUAY</td>\n",
       "      <td>NaN</td>\n",
       "    </tr>\n",
       "    <tr>\n",
       "      <th>1</th>\n",
       "      <td>USA</td>\n",
       "      <td>Belgium (België)</td>\n",
       "      <td>3</td>\n",
       "      <td>0</td>\n",
       "      <td>NaN</td>\n",
       "      <td>GROUP_STAGE</td>\n",
       "      <td>Montevideo.</td>\n",
       "      <td>1930-URUGUAY</td>\n",
       "      <td>NaN</td>\n",
       "    </tr>\n",
       "    <tr>\n",
       "      <th>2</th>\n",
       "      <td>Yugoslavia (Југославија)</td>\n",
       "      <td>Brazil (Brasil)</td>\n",
       "      <td>2</td>\n",
       "      <td>1</td>\n",
       "      <td>NaN</td>\n",
       "      <td>GROUP_STAGE</td>\n",
       "      <td>Montevideo.</td>\n",
       "      <td>1930-URUGUAY</td>\n",
       "      <td>NaN</td>\n",
       "    </tr>\n",
       "    <tr>\n",
       "      <th>3</th>\n",
       "      <td>Romania (România)</td>\n",
       "      <td>Peru (Perú)</td>\n",
       "      <td>3</td>\n",
       "      <td>1</td>\n",
       "      <td>NaN</td>\n",
       "      <td>GROUP_STAGE</td>\n",
       "      <td>Montevideo.</td>\n",
       "      <td>1930-URUGUAY</td>\n",
       "      <td>NaN</td>\n",
       "    </tr>\n",
       "    <tr>\n",
       "      <th>4</th>\n",
       "      <td>Argentina</td>\n",
       "      <td>France</td>\n",
       "      <td>1</td>\n",
       "      <td>0</td>\n",
       "      <td>NaN</td>\n",
       "      <td>GROUP_STAGE</td>\n",
       "      <td>Montevideo.</td>\n",
       "      <td>1930-URUGUAY</td>\n",
       "      <td>NaN</td>\n",
       "    </tr>\n",
       "  </tbody>\n",
       "</table>\n",
       "</div>"
      ],
      "text/plain": [
       "                  home_team         away_team  home_result  away_result date  \\\n",
       "0                    France   Mexico (México)            4            1  NaN   \n",
       "1                       USA  Belgium (België)            3            0  NaN   \n",
       "2  Yugoslavia (Југославија)   Brazil (Brasil)            2            1  NaN   \n",
       "3         Romania (România)       Peru (Perú)            3            1  NaN   \n",
       "4                 Argentina            France            1            0  NaN   \n",
       "\n",
       "         round         city       edition  id_match  \n",
       "0  GROUP_STAGE  Montevideo.  1930-URUGUAY       NaN  \n",
       "1  GROUP_STAGE  Montevideo.  1930-URUGUAY       NaN  \n",
       "2  GROUP_STAGE  Montevideo.  1930-URUGUAY       NaN  \n",
       "3  GROUP_STAGE  Montevideo.  1930-URUGUAY       NaN  \n",
       "4  GROUP_STAGE  Montevideo.  1930-URUGUAY       NaN  "
      ]
     },
     "execution_count": 22,
     "metadata": {},
     "output_type": "execute_result"
    }
   ],
   "source": [
    "df_clean.head()"
   ]
  },
  {
   "cell_type": "code",
   "execution_count": 23,
   "metadata": {},
   "outputs": [
    {
     "data": {
      "text/html": [
       "<div>\n",
       "<style scoped>\n",
       "    .dataframe tbody tr th:only-of-type {\n",
       "        vertical-align: middle;\n",
       "    }\n",
       "\n",
       "    .dataframe tbody tr th {\n",
       "        vertical-align: top;\n",
       "    }\n",
       "\n",
       "    .dataframe thead th {\n",
       "        text-align: right;\n",
       "    }\n",
       "</style>\n",
       "<table border=\"1\" class=\"dataframe\">\n",
       "  <thead>\n",
       "    <tr style=\"text-align: right;\">\n",
       "      <th></th>\n",
       "      <th>home_result</th>\n",
       "      <th>away_result</th>\n",
       "      <th>id_match</th>\n",
       "    </tr>\n",
       "  </thead>\n",
       "  <tbody>\n",
       "    <tr>\n",
       "      <th>count</th>\n",
       "      <td>6415.000000</td>\n",
       "      <td>6415.000000</td>\n",
       "      <td>0.0</td>\n",
       "    </tr>\n",
       "    <tr>\n",
       "      <th>mean</th>\n",
       "      <td>1.833203</td>\n",
       "      <td>1.084645</td>\n",
       "      <td>NaN</td>\n",
       "    </tr>\n",
       "    <tr>\n",
       "      <th>std</th>\n",
       "      <td>1.864423</td>\n",
       "      <td>1.395628</td>\n",
       "      <td>NaN</td>\n",
       "    </tr>\n",
       "    <tr>\n",
       "      <th>min</th>\n",
       "      <td>0.000000</td>\n",
       "      <td>0.000000</td>\n",
       "      <td>NaN</td>\n",
       "    </tr>\n",
       "    <tr>\n",
       "      <th>25%</th>\n",
       "      <td>1.000000</td>\n",
       "      <td>0.000000</td>\n",
       "      <td>NaN</td>\n",
       "    </tr>\n",
       "    <tr>\n",
       "      <th>50%</th>\n",
       "      <td>1.000000</td>\n",
       "      <td>1.000000</td>\n",
       "      <td>NaN</td>\n",
       "    </tr>\n",
       "    <tr>\n",
       "      <th>75%</th>\n",
       "      <td>3.000000</td>\n",
       "      <td>2.000000</td>\n",
       "      <td>NaN</td>\n",
       "    </tr>\n",
       "    <tr>\n",
       "      <th>max</th>\n",
       "      <td>31.000000</td>\n",
       "      <td>22.000000</td>\n",
       "      <td>NaN</td>\n",
       "    </tr>\n",
       "  </tbody>\n",
       "</table>\n",
       "</div>"
      ],
      "text/plain": [
       "       home_result  away_result  id_match\n",
       "count  6415.000000  6415.000000       0.0\n",
       "mean      1.833203     1.084645       NaN\n",
       "std       1.864423     1.395628       NaN\n",
       "min       0.000000     0.000000       NaN\n",
       "25%       1.000000     0.000000       NaN\n",
       "50%       1.000000     1.000000       NaN\n",
       "75%       3.000000     2.000000       NaN\n",
       "max      31.000000    22.000000       NaN"
      ]
     },
     "execution_count": 23,
     "metadata": {},
     "output_type": "execute_result"
    }
   ],
   "source": [
    "df_clean.describe()"
   ]
  },
  {
   "cell_type": "code",
   "execution_count": 24,
   "metadata": {},
   "outputs": [],
   "source": [
    "import numpy as np"
   ]
  },
  {
   "cell_type": "code",
   "execution_count": 25,
   "metadata": {},
   "outputs": [
    {
     "name": "stdout",
     "output_type": "stream",
     "text": [
      "                     home_team                away_team  home_result  \\\n",
      "0                       France          Mexico (México)            4   \n",
      "1                          USA         Belgium (België)            3   \n",
      "2     Yugoslavia (Југославија)          Brazil (Brasil)            2   \n",
      "3            Romania (România)              Peru (Perú)            3   \n",
      "4                    Argentina                   France            1   \n",
      "...                        ...                      ...          ...   \n",
      "6410                  Paraguay           Spain (España)            0   \n",
      "6411                   Uruguay  Netherlands (Nederland)            2   \n",
      "6412     Germany (Deutschland)           Spain (España)            0   \n",
      "6413                   Uruguay    Germany (Deutschland)            2   \n",
      "6414   Netherlands (Nederland)           Spain (España)            0   \n",
      "\n",
      "      away_result date        round             city            edition  \\\n",
      "0               1  NaN  GROUP_STAGE      Montevideo.       1930-URUGUAY   \n",
      "1               0  NaN  GROUP_STAGE      Montevideo.       1930-URUGUAY   \n",
      "2               1  NaN  GROUP_STAGE      Montevideo.       1930-URUGUAY   \n",
      "3               1  NaN  GROUP_STAGE      Montevideo.       1930-URUGUAY   \n",
      "4               0  NaN  GROUP_STAGE      Montevideo.       1930-URUGUAY   \n",
      "...           ...  ...          ...              ...                ...   \n",
      "6410            1  NaN    1/4_FINAL    Johannesburg.  2010-SOUTH AFRICA   \n",
      "6411            3  NaN    1/2_FINAL       Cape Town.  2010-SOUTH AFRICA   \n",
      "6412            1  NaN    1/2_FINAL          Durban.  2010-SOUTH AFRICA   \n",
      "6413            3  NaN   PLACES_3&4  Port_Elizabeth.  2010-SOUTH AFRICA   \n",
      "6414            1  NaN       _FINAL    Johannesburg.  2010-SOUTH AFRICA   \n",
      "\n",
      "      id_match  \n",
      "0            1  \n",
      "1            2  \n",
      "2            3  \n",
      "3            4  \n",
      "4            5  \n",
      "...        ...  \n",
      "6410      6411  \n",
      "6411      6412  \n",
      "6412      6413  \n",
      "6413      6414  \n",
      "6414      6415  \n",
      "\n",
      "[6415 rows x 9 columns]\n"
     ]
    }
   ],
   "source": [
    "# Vérifier si 'id_match' existe déjà et la réinitialiser\n",
    "if 'id_match' in df_clean.columns:\n",
    "    df_clean['id_match'] = np.arange(1, len(df_clean) + 1)\n",
    "else:\n",
    "    df_clean.insert(0, 'id_match', np.arange(1, len(df_clean) + 1))\n",
    "\n",
    "# Afficher le DataFrame résultant\n",
    "print(df_clean)"
   ]
  },
  {
   "cell_type": "code",
   "execution_count": 26,
   "metadata": {},
   "outputs": [
    {
     "data": {
      "text/html": [
       "<div>\n",
       "<style scoped>\n",
       "    .dataframe tbody tr th:only-of-type {\n",
       "        vertical-align: middle;\n",
       "    }\n",
       "\n",
       "    .dataframe tbody tr th {\n",
       "        vertical-align: top;\n",
       "    }\n",
       "\n",
       "    .dataframe thead th {\n",
       "        text-align: right;\n",
       "    }\n",
       "</style>\n",
       "<table border=\"1\" class=\"dataframe\">\n",
       "  <thead>\n",
       "    <tr style=\"text-align: right;\">\n",
       "      <th></th>\n",
       "      <th>home_team</th>\n",
       "      <th>away_team</th>\n",
       "      <th>home_result</th>\n",
       "      <th>away_result</th>\n",
       "      <th>date</th>\n",
       "      <th>round</th>\n",
       "      <th>city</th>\n",
       "      <th>edition</th>\n",
       "      <th>id_match</th>\n",
       "    </tr>\n",
       "  </thead>\n",
       "  <tbody>\n",
       "    <tr>\n",
       "      <th>0</th>\n",
       "      <td>France</td>\n",
       "      <td>Mexico (México)</td>\n",
       "      <td>4</td>\n",
       "      <td>1</td>\n",
       "      <td>NaN</td>\n",
       "      <td>GROUP_STAGE</td>\n",
       "      <td>Montevideo.</td>\n",
       "      <td>1930-URUGUAY</td>\n",
       "      <td>1</td>\n",
       "    </tr>\n",
       "    <tr>\n",
       "      <th>1</th>\n",
       "      <td>USA</td>\n",
       "      <td>Belgium (België)</td>\n",
       "      <td>3</td>\n",
       "      <td>0</td>\n",
       "      <td>NaN</td>\n",
       "      <td>GROUP_STAGE</td>\n",
       "      <td>Montevideo.</td>\n",
       "      <td>1930-URUGUAY</td>\n",
       "      <td>2</td>\n",
       "    </tr>\n",
       "    <tr>\n",
       "      <th>2</th>\n",
       "      <td>Yugoslavia (Југославија)</td>\n",
       "      <td>Brazil (Brasil)</td>\n",
       "      <td>2</td>\n",
       "      <td>1</td>\n",
       "      <td>NaN</td>\n",
       "      <td>GROUP_STAGE</td>\n",
       "      <td>Montevideo.</td>\n",
       "      <td>1930-URUGUAY</td>\n",
       "      <td>3</td>\n",
       "    </tr>\n",
       "    <tr>\n",
       "      <th>3</th>\n",
       "      <td>Romania (România)</td>\n",
       "      <td>Peru (Perú)</td>\n",
       "      <td>3</td>\n",
       "      <td>1</td>\n",
       "      <td>NaN</td>\n",
       "      <td>GROUP_STAGE</td>\n",
       "      <td>Montevideo.</td>\n",
       "      <td>1930-URUGUAY</td>\n",
       "      <td>4</td>\n",
       "    </tr>\n",
       "    <tr>\n",
       "      <th>4</th>\n",
       "      <td>Argentina</td>\n",
       "      <td>France</td>\n",
       "      <td>1</td>\n",
       "      <td>0</td>\n",
       "      <td>NaN</td>\n",
       "      <td>GROUP_STAGE</td>\n",
       "      <td>Montevideo.</td>\n",
       "      <td>1930-URUGUAY</td>\n",
       "      <td>5</td>\n",
       "    </tr>\n",
       "  </tbody>\n",
       "</table>\n",
       "</div>"
      ],
      "text/plain": [
       "                  home_team         away_team  home_result  away_result date  \\\n",
       "0                    France   Mexico (México)            4            1  NaN   \n",
       "1                       USA  Belgium (België)            3            0  NaN   \n",
       "2  Yugoslavia (Југославија)   Brazil (Brasil)            2            1  NaN   \n",
       "3         Romania (România)       Peru (Perú)            3            1  NaN   \n",
       "4                 Argentina            France            1            0  NaN   \n",
       "\n",
       "         round         city       edition  id_match  \n",
       "0  GROUP_STAGE  Montevideo.  1930-URUGUAY         1  \n",
       "1  GROUP_STAGE  Montevideo.  1930-URUGUAY         2  \n",
       "2  GROUP_STAGE  Montevideo.  1930-URUGUAY         3  \n",
       "3  GROUP_STAGE  Montevideo.  1930-URUGUAY         4  \n",
       "4  GROUP_STAGE  Montevideo.  1930-URUGUAY         5  "
      ]
     },
     "execution_count": 26,
     "metadata": {},
     "output_type": "execute_result"
    }
   ],
   "source": [
    "df_clean.head()"
   ]
  },
  {
   "cell_type": "markdown",
   "metadata": {},
   "source": [
    "## 2014"
   ]
  },
  {
   "cell_type": "code",
   "execution_count": 28,
   "metadata": {},
   "outputs": [
    {
     "name": "stdout",
     "output_type": "stream",
     "text": [
      "<class 'pandas.core.frame.DataFrame'>\n",
      "RangeIndex: 80 entries, 0 to 79\n",
      "Data columns (total 20 columns):\n",
      " #   Column                Non-Null Count  Dtype  \n",
      "---  ------                --------------  -----  \n",
      " 0   Year                  80 non-null     int64  \n",
      " 1   Datetime              80 non-null     object \n",
      " 2   Stage                 80 non-null     object \n",
      " 3   Stadium               80 non-null     object \n",
      " 4   City                  80 non-null     object \n",
      " 5   Home Team Name        80 non-null     object \n",
      " 6   Home Team Goals       80 non-null     int64  \n",
      " 7   Away Team Goals       80 non-null     int64  \n",
      " 8   Away Team Name        80 non-null     object \n",
      " 9   Win conditions        80 non-null     object \n",
      " 10  Attendance            78 non-null     float64\n",
      " 11  Half-time Home Goals  80 non-null     int64  \n",
      " 12  Half-time Away Goals  80 non-null     int64  \n",
      " 13  Referee               80 non-null     object \n",
      " 14  Assistant 1           80 non-null     object \n",
      " 15  Assistant 2           80 non-null     object \n",
      " 16  RoundID               80 non-null     int64  \n",
      " 17  MatchID               80 non-null     int64  \n",
      " 18  Home Team Initials    80 non-null     object \n",
      " 19  Away Team Initials    80 non-null     object \n",
      "dtypes: float64(1), int64(7), object(12)\n",
      "memory usage: 12.6+ KB\n"
     ]
    }
   ],
   "source": [
    "df_matches_2014.info()"
   ]
  },
  {
   "cell_type": "code",
   "execution_count": 29,
   "metadata": {},
   "outputs": [],
   "source": [
    "df_matches_2014 = df_matches_2014.drop(['Stadium', 'Win conditions', 'Attendance', 'Half-time Home Goals', 'Half-time Away Goals', 'Referee', 'Assistant 1', 'Assistant 2', 'RoundID', 'MatchID', 'Home Team Initials', 'Away Team Initials'], axis =1)"
   ]
  },
  {
   "cell_type": "code",
   "execution_count": 43,
   "metadata": {},
   "outputs": [],
   "source": [
    "df_matches_2014_renamed = df_matches_2014.rename(columns={'Year':'edition', 'Datetime': 'date', 'Stage': 'round', 'City':'city', 'Home Team Name': 'home_team', 'Home Team Goals': 'home-result', 'Away Team Name': 'away_team', 'Away Team Goals': 'away_result'}, inplace=True)"
   ]
  },
  {
   "cell_type": "code",
   "execution_count": 31,
   "metadata": {},
   "outputs": [
    {
     "name": "stdout",
     "output_type": "stream",
     "text": [
      "<class 'pandas.core.frame.DataFrame'>\n",
      "RangeIndex: 80 entries, 0 to 79\n",
      "Data columns (total 8 columns):\n",
      " #   Column       Non-Null Count  Dtype \n",
      "---  ------       --------------  ----- \n",
      " 0   edition      80 non-null     int64 \n",
      " 1   date         80 non-null     object\n",
      " 2   round        80 non-null     object\n",
      " 3   city         80 non-null     object\n",
      " 4   home_team    80 non-null     object\n",
      " 5   home-result  80 non-null     int64 \n",
      " 6   away_result  80 non-null     int64 \n",
      " 7   away_team    80 non-null     object\n",
      "dtypes: int64(3), object(5)\n",
      "memory usage: 5.1+ KB\n"
     ]
    }
   ],
   "source": [
    "df_matches_2014_renamed.info()"
   ]
  },
  {
   "cell_type": "code",
   "execution_count": 32,
   "metadata": {},
   "outputs": [
    {
     "name": "stdout",
     "output_type": "stream",
     "text": [
      "<class 'pandas.core.frame.DataFrame'>\n",
      "RangeIndex: 6415 entries, 0 to 6414\n",
      "Data columns (total 9 columns):\n",
      " #   Column       Non-Null Count  Dtype \n",
      "---  ------       --------------  ----- \n",
      " 0   home_team    6415 non-null   object\n",
      " 1   away_team    6415 non-null   object\n",
      " 2   home_result  6415 non-null   int64 \n",
      " 3   away_result  6415 non-null   int64 \n",
      " 4   date         0 non-null      object\n",
      " 5   round        6415 non-null   object\n",
      " 6   city         6415 non-null   object\n",
      " 7   edition      6415 non-null   object\n",
      " 8   id_match     6415 non-null   int64 \n",
      "dtypes: int64(3), object(6)\n",
      "memory usage: 451.2+ KB\n"
     ]
    }
   ],
   "source": [
    "df_clean.info()"
   ]
  },
  {
   "cell_type": "code",
   "execution_count": 44,
   "metadata": {},
   "outputs": [
    {
     "data": {
      "text/html": [
       "<div>\n",
       "<style scoped>\n",
       "    .dataframe tbody tr th:only-of-type {\n",
       "        vertical-align: middle;\n",
       "    }\n",
       "\n",
       "    .dataframe tbody tr th {\n",
       "        vertical-align: top;\n",
       "    }\n",
       "\n",
       "    .dataframe thead th {\n",
       "        text-align: right;\n",
       "    }\n",
       "</style>\n",
       "<table border=\"1\" class=\"dataframe\">\n",
       "  <thead>\n",
       "    <tr style=\"text-align: right;\">\n",
       "      <th></th>\n",
       "      <th>edition</th>\n",
       "      <th>date</th>\n",
       "      <th>round</th>\n",
       "      <th>city</th>\n",
       "      <th>home_team</th>\n",
       "      <th>home-result</th>\n",
       "      <th>away_result</th>\n",
       "      <th>away_team</th>\n",
       "    </tr>\n",
       "  </thead>\n",
       "  <tbody>\n",
       "    <tr>\n",
       "      <th>0</th>\n",
       "      <td>2014</td>\n",
       "      <td>12 Jun 2014 - 17:00</td>\n",
       "      <td>Group A</td>\n",
       "      <td>Sao Paulo</td>\n",
       "      <td>Brazil</td>\n",
       "      <td>3</td>\n",
       "      <td>1</td>\n",
       "      <td>Croatia</td>\n",
       "    </tr>\n",
       "    <tr>\n",
       "      <th>1</th>\n",
       "      <td>2014</td>\n",
       "      <td>13 Jun 2014 - 13:00</td>\n",
       "      <td>Group A</td>\n",
       "      <td>Natal</td>\n",
       "      <td>Mexico</td>\n",
       "      <td>1</td>\n",
       "      <td>0</td>\n",
       "      <td>Cameroon</td>\n",
       "    </tr>\n",
       "    <tr>\n",
       "      <th>2</th>\n",
       "      <td>2014</td>\n",
       "      <td>13 Jun 2014 - 16:00</td>\n",
       "      <td>Group B</td>\n",
       "      <td>Salvador</td>\n",
       "      <td>Spain</td>\n",
       "      <td>1</td>\n",
       "      <td>5</td>\n",
       "      <td>Netherlands</td>\n",
       "    </tr>\n",
       "    <tr>\n",
       "      <th>3</th>\n",
       "      <td>2014</td>\n",
       "      <td>13 Jun 2014 - 18:00</td>\n",
       "      <td>Group B</td>\n",
       "      <td>Cuiaba</td>\n",
       "      <td>Chile</td>\n",
       "      <td>3</td>\n",
       "      <td>1</td>\n",
       "      <td>Australia</td>\n",
       "    </tr>\n",
       "    <tr>\n",
       "      <th>4</th>\n",
       "      <td>2014</td>\n",
       "      <td>14 Jun 2014 - 13:00</td>\n",
       "      <td>Group C</td>\n",
       "      <td>Belo Horizonte</td>\n",
       "      <td>Colombia</td>\n",
       "      <td>3</td>\n",
       "      <td>0</td>\n",
       "      <td>Greece</td>\n",
       "    </tr>\n",
       "  </tbody>\n",
       "</table>\n",
       "</div>"
      ],
      "text/plain": [
       "   edition                  date    round             city home_team  \\\n",
       "0     2014  12 Jun 2014 - 17:00   Group A       Sao Paulo     Brazil   \n",
       "1     2014  13 Jun 2014 - 13:00   Group A           Natal     Mexico   \n",
       "2     2014  13 Jun 2014 - 16:00   Group B        Salvador      Spain   \n",
       "3     2014  13 Jun 2014 - 18:00   Group B          Cuiaba      Chile   \n",
       "4     2014  14 Jun 2014 - 13:00   Group C  Belo Horizonte   Colombia   \n",
       "\n",
       "   home-result  away_result    away_team  \n",
       "0            3            1      Croatia  \n",
       "1            1            0     Cameroon  \n",
       "2            1            5  Netherlands  \n",
       "3            3            1    Australia  \n",
       "4            3            0       Greece  "
      ]
     },
     "execution_count": 44,
     "metadata": {},
     "output_type": "execute_result"
    }
   ],
   "source": [
    "df_clean.head()"
   ]
  },
  {
   "cell_type": "code",
   "execution_count": 35,
   "metadata": {},
   "outputs": [],
   "source": [
    "for col in ['home_team','away_team']:\n",
    "    df_clean[col]= df_clean[col].replace(r'\\(.*?\\)', '', regex=True)"
   ]
  },
  {
   "cell_type": "code",
   "execution_count": null,
   "metadata": {},
   "outputs": [],
   "source": []
  }
 ],
 "metadata": {
  "kernelspec": {
   "display_name": "Python 3",
   "language": "python",
   "name": "python3"
  },
  "language_info": {
   "codemirror_mode": {
    "name": "ipython",
    "version": 3
   },
   "file_extension": ".py",
   "mimetype": "text/x-python",
   "name": "python",
   "nbconvert_exporter": "python",
   "pygments_lexer": "ipython3",
   "version": "3.12.2"
  }
 },
 "nbformat": 4,
 "nbformat_minor": 2
}
